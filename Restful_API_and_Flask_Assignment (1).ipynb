{
  "nbformat": 4,
  "nbformat_minor": 0,
  "metadata": {
    "colab": {
      "provenance": []
    },
    "kernelspec": {
      "name": "python3",
      "display_name": "Python 3"
    },
    "language_info": {
      "name": "python"
    }
  },
  "cells": [
    {
      "cell_type": "markdown",
      "source": [
        " # **RESTFUL API & FLASK**"
      ],
      "metadata": {
        "id": "ze3GcspCinXL"
      }
    },
    {
      "cell_type": "markdown",
      "source": [
        "# Theory Questions"
      ],
      "metadata": {
        "id": "bTLrtCX_ie98"
      }
    },
    {
      "cell_type": "markdown",
      "source": [
        "1. What is a RESTful API?\n",
        "2. Explain the concept of API specification.\n",
        "3. What is Flask, and why is it popular for building APIs?\n",
        "4. What is routing in Flask?\n",
        "5. How do you create a simple Flask application?\n",
        "6. What are HTTP methods used in RESTful APIs?\n",
        "7. What is the purpose of the @app.route() decorator in Flask?\n",
        "8. What is the difference between GET and POST HTTP methods?\n",
        "9. How do you handle errors in Flask APIs?\n",
        "10. How do you connect Flask to a SQL database?\n",
        "11. What is the role of Flask-SQLAlchemy?\n",
        "12. What are Flask blueprints, and how are they useful?\n",
        "13. What is the purpose of Flask's request object?\n",
        "14. How do you create a RESTful API endpoint using Flask?\n",
        "15. What is the purpose of Flask's jsonify() function?\n",
        "16. Explain Flask's url_for() function.\n",
        "17. How does Flask handle static files (CSS, JavaScript, etc.)?\n",
        "18. What is an API specification, and how does it help in building a Flask API?\n",
        "19. What are HTTP status codes, and why are they important in a Flask API?\n",
        "20. How do you handle POST requests in Flask?\n",
        "21. How would you secure a Flask API?\n",
        "22. What is the significance of the Flask-RESTful extension?\n",
        "23. What is the role of Flask's session object?"
      ],
      "metadata": {
        "id": "yKr1s40Pi0Kn"
      }
    },
    {
      "cell_type": "markdown",
      "source": [
        "Answer 01\n",
        "- A RESTful API follows REST (Representational State Transfer) principles,  \n",
        "  using standard HTTP methods to perform operations on resources.\n",
        "- Example\n",
        "  - GET /users        -> Fetch users\n",
        "  - POST /users       -> Create a user\n",
        "  - GET /users/1      -> Get user with ID 1\n",
        "  - PUT /users/1      -> Update user 1\n",
        "  - DELETE /users/1   -> Delete user 1"
      ],
      "metadata": {
        "id": "aI3jUNhOkJ3X"
      }
    },
    {
      "cell_type": "markdown",
      "source": [
        "Answer 02\n",
        "- An API specification is a formal description of the structure and behavior of\n",
        "  an API. It defines endpoints, request/response formats, and more.\n",
        "- Tools: OpenAPI (Swagger)"
      ],
      "metadata": {
        "id": "j-y_SPBfkqCq"
      }
    },
    {
      "cell_type": "markdown",
      "source": [
        "Answer 03\n",
        "- Flask is a micro web framework in Python. It's lightweight and easy to use  \n",
        "  for small or large applications.\n",
        "- Why popular:\n",
        "  - Simple to set up\n",
        "  - Flexible\n",
        "  - Great extensions (e.g., Flask-RESTful)"
      ],
      "metadata": {
        "id": "_NMp87lPkzlT"
      }
    },
    {
      "cell_type": "markdown",
      "source": [
        "Answer 04\n",
        "- Routing maps URL paths to Python functions."
      ],
      "metadata": {
        "id": "m-tzPzw3k_6q"
      }
    },
    {
      "cell_type": "code",
      "source": [
        "# Example\n",
        "\n",
        "@app.route('/hello')\n",
        "def hello():\n",
        "    return \"Hello!\""
      ],
      "metadata": {
        "id": "jJGfXMbhlEbE"
      },
      "execution_count": 2,
      "outputs": []
    },
    {
      "cell_type": "markdown",
      "source": [
        "Answer 05\n",
        "- Create a Simple Flask App"
      ],
      "metadata": {
        "id": "M1zIWNT9opGb"
      }
    },
    {
      "cell_type": "code",
      "source": [
        "from flask import Flask\n",
        "app = Flask(__name__)\n",
        "\n",
        "@app.route('/')\n",
        "def index():\n",
        "    return \"Welcome to Flask!\"\n",
        "\n",
        "if __name__ == '__main__':\n",
        "    app.run(debug=True)"
      ],
      "metadata": {
        "id": "NpTqu105lQQ2"
      },
      "execution_count": 4,
      "outputs": []
    },
    {
      "cell_type": "markdown",
      "source": [
        "Answer 06\n",
        "- GET: Retrieve data\n",
        "- POST: Create new data\n",
        "- PUT: Update data\n",
        "- DELETE: Remove data\n",
        "- PATCH: Partially update"
      ],
      "metadata": {
        "id": "y23D1MDelm63"
      }
    },
    {
      "cell_type": "markdown",
      "source": [
        "Answer 07\n",
        "- It defines which URL triggers which function."
      ],
      "metadata": {
        "id": "Zvp8jQiplwg3"
      }
    },
    {
      "cell_type": "code",
      "source": [
        "# Example\n",
        "\n",
        "@app.route('/about')\n",
        "def about():\n",
        "    return \"About page\""
      ],
      "metadata": {
        "id": "FRZu5Qb6l1xN"
      },
      "execution_count": null,
      "outputs": []
    },
    {
      "cell_type": "markdown",
      "source": [
        "Answer 08\n",
        "- GET: Retrieves data, parameters in URL, safe and idempotent.\n",
        "- POST: Sends data to server, parameters in body, not idempotent."
      ],
      "metadata": {
        "id": "A5KhQrvNl_3S"
      }
    },
    {
      "cell_type": "markdown",
      "source": [
        "Answer 09\n",
        "- Use error handlers or return custom responses."
      ],
      "metadata": {
        "id": "7y7BL0C_mHqY"
      }
    },
    {
      "cell_type": "code",
      "source": [
        "# Example\n",
        "\n",
        "@app.errorhandler(404)\n",
        "def not_found(e):\n",
        "    return {\"error\": \"Not Found\"}, 404"
      ],
      "metadata": {
        "id": "VsNa1PPNmMmX"
      },
      "execution_count": null,
      "outputs": []
    },
    {
      "cell_type": "markdown",
      "source": [
        "Answer 10\n",
        "- Use Flask-SQLAlchemy:"
      ],
      "metadata": {
        "id": "HN57uzdtmXXw"
      }
    },
    {
      "cell_type": "code",
      "source": [
        "from flask_sqlalchemy import SQLAlchemy\n",
        "\n",
        "app.config['SQLALCHEMY_DATABASE_URI'] = 'sqlite:///test.db'\n",
        "db = SQLAlchemy(app)"
      ],
      "metadata": {
        "id": "aQwgKxXPl94E"
      },
      "execution_count": null,
      "outputs": []
    },
    {
      "cell_type": "markdown",
      "source": [
        "Answer 11\n",
        "- It simplifies working with databases in Flask by using an ORM to manage  \n",
        "  tables as Python classes."
      ],
      "metadata": {
        "id": "CMbalmf9mhHN"
      }
    },
    {
      "cell_type": "code",
      "source": [
        "# Example\n",
        "\n",
        "class User(db.Model):\n",
        "    id = db.Column(db.Integer, primary_key=True)\n",
        "    name = db.Column(db.String(80))"
      ],
      "metadata": {
        "id": "IDYGqlz9mo6R"
      },
      "execution_count": null,
      "outputs": []
    },
    {
      "cell_type": "markdown",
      "source": [
        "Answer 12\n",
        "- Blueprints allow app components (routes, models) to be organized into modules."
      ],
      "metadata": {
        "id": "ETLQMEn1myZv"
      }
    },
    {
      "cell_type": "code",
      "source": [
        "# Example\n",
        "\n",
        "user.py\n",
        "from flask import Blueprint\n",
        "user_bp = Blueprint('user', __name__)\n",
        "\n",
        "@user_bp.route('/profile')\n",
        "def profile():\n",
        "    return \"User Profile\""
      ],
      "metadata": {
        "id": "UdAtcB-gm2iI"
      },
      "execution_count": null,
      "outputs": []
    },
    {
      "cell_type": "code",
      "source": [
        "# Then register in main app:\n",
        "\n",
        "app.register_blueprint(user_bp)"
      ],
      "metadata": {
        "id": "M5cCdu4ym871"
      },
      "execution_count": null,
      "outputs": []
    },
    {
      "cell_type": "markdown",
      "source": [
        "Answer 13\n",
        "- It gives access to incoming request data."
      ],
      "metadata": {
        "id": "id7v1rCsnKct"
      }
    },
    {
      "cell_type": "code",
      "source": [
        "# Example\n",
        "\n",
        "from flask import request\n",
        "\n",
        "@app.route('/greet', methods=['POST'])\n",
        "def greet():\n",
        "    name = request.json['name']\n",
        "    return f\"Hello, {name}!\""
      ],
      "metadata": {
        "id": "K4rve5O0nNks"
      },
      "execution_count": null,
      "outputs": []
    },
    {
      "cell_type": "markdown",
      "source": [
        "Answer 14\n",
        "- Create Restful API Endpoint through flask."
      ],
      "metadata": {
        "id": "ckDJcqwso0LR"
      }
    },
    {
      "cell_type": "code",
      "source": [
        "@app.route('/api/user/<int:id>', methods=['GET'])\n",
        "def get_user(id):\n",
        "    return {\"id\": id, \"name\": \"John Doe\"}"
      ],
      "metadata": {
        "id": "UEVOAHyDnVL0"
      },
      "execution_count": null,
      "outputs": []
    },
    {
      "cell_type": "markdown",
      "source": [
        "Answer 15\n",
        "- It converts Python dictionaries to JSON response with proper headers."
      ],
      "metadata": {
        "id": "WT1TxDEJnbt0"
      }
    },
    {
      "cell_type": "code",
      "source": [
        "# Example\n",
        "\n",
        "from flask import jsonify\n",
        "\n",
        "@app.route('/data')\n",
        "def data():\n",
        "    return jsonify({\"msg\": \"Hello\"})"
      ],
      "metadata": {
        "id": "uVs0BbcznfTf"
      },
      "execution_count": null,
      "outputs": []
    },
    {
      "cell_type": "markdown",
      "source": [
        "Answer 16\n",
        "- It builds a URL to a view function dynamically."
      ],
      "metadata": {
        "id": "tcM3nA_Znk0x"
      }
    },
    {
      "cell_type": "code",
      "source": [
        "# Example\n",
        "\n",
        "@app.route('/home')\n",
        "def home():\n",
        "    return \"Home\"\n",
        "\n",
        "# somewhere else\n",
        "url_for('home')  # returns '/home'"
      ],
      "metadata": {
        "id": "aC46J1pInnGN"
      },
      "execution_count": null,
      "outputs": []
    },
    {
      "cell_type": "markdown",
      "source": [
        "Answer 17\n",
        "- It serves them from the /static folder automatically."
      ],
      "metadata": {
        "id": "ipFkfmWgnxA5"
      }
    },
    {
      "cell_type": "code",
      "source": [
        "# Example folder\n",
        "\n",
        "# /static/css/style.css"
      ],
      "metadata": {
        "id": "uYpPFpF4n0Za"
      },
      "execution_count": null,
      "outputs": []
    },
    {
      "cell_type": "code",
      "source": [
        "# Access in HTML\n",
        "\n",
        "# <link rel=\"stylesheet\" href=\"{{ url_for('static', filename='css/style.css') }}\">"
      ],
      "metadata": {
        "id": "vNguTmF9n5qJ"
      },
      "execution_count": null,
      "outputs": []
    },
    {
      "cell_type": "markdown",
      "source": [
        "Answer 18\n",
        "- It describes API structure. It helps:\n",
        " - Standardize development\n",
        " - Auto-generate documentation\n",
        " - Improve team collaboration\n",
        " - Tool: Swagger/OpenAPI"
      ],
      "metadata": {
        "id": "KT9TUFTboCNU"
      }
    },
    {
      "cell_type": "markdown",
      "source": [
        "Answer 19\n",
        "- They indicate the result of a request.\n",
        "- Examples:\n",
        "  - 200 OK\n",
        "  - 201 Created\n",
        "  - 400 Bad Request\n",
        "  - 404 Not Found\n",
        "  - 500 Internal Server Error\n",
        "\n"
      ],
      "metadata": {
        "id": "b77fMSDuoOmc"
      }
    },
    {
      "cell_type": "code",
      "source": [
        "# Flask Example\n",
        "\n",
        "# return {\"msg\": \"Success\"}, 200"
      ],
      "metadata": {
        "id": "QIFwF_dRodQw"
      },
      "execution_count": null,
      "outputs": []
    },
    {
      "cell_type": "markdown",
      "source": [
        "Answer 20\n",
        "- Handle POST Request in flask"
      ],
      "metadata": {
        "id": "cXYS0sjopF7y"
      }
    },
    {
      "cell_type": "code",
      "source": [
        "@app.route('/submit', methods=['POST'])\n",
        "def submit():\n",
        "    data = request.json\n",
        "    return {\"received\": data}, 201"
      ],
      "metadata": {
        "id": "JObcJOhQoiA-"
      },
      "execution_count": null,
      "outputs": []
    },
    {
      "cell_type": "markdown",
      "source": [
        "Answer 21\n",
        "- Use HTTPS\n",
        "- Authentication (e.g., JWT)\n",
        "- Input validation\n",
        "- Rate limiting (e.g., Flask-Limiter)\n",
        "- Avoid exposing secrets"
      ],
      "metadata": {
        "id": "qcEHuARzpSw0"
      }
    },
    {
      "cell_type": "code",
      "source": [
        "# Example\n",
        "\n",
        "from flask_jwt_extended import jwt_required\n",
        "\n",
        "@app.route('/secure')\n",
        "@jwt_required()\n",
        "def secure():\n",
        "    return \"Protected data\""
      ],
      "metadata": {
        "id": "Zyvvkf1Opay1"
      },
      "execution_count": null,
      "outputs": []
    },
    {
      "cell_type": "markdown",
      "source": [
        "Answer 22\n",
        "- It simplifies API development by supporting resource-based routing."
      ],
      "metadata": {
        "id": "IHBVAraopf2l"
      }
    },
    {
      "cell_type": "code",
      "source": [
        "# Example\n",
        "\n",
        "from flask_restful import Resource, Api\n",
        "\n",
        "api = Api(app)\n",
        "\n",
        "class Hello(Resource):\n",
        "    def get(self):\n",
        "        return {\"msg\": \"Hello\"}\n",
        "\n",
        "api.add_resource(Hello, '/hello')"
      ],
      "metadata": {
        "id": "fTFVvdJJphYq"
      },
      "execution_count": null,
      "outputs": []
    },
    {
      "cell_type": "markdown",
      "source": [
        "Answer 23\n",
        "- It stores user-specific data across requests (cookies)."
      ],
      "metadata": {
        "id": "HGI1WX2cpoee"
      }
    },
    {
      "cell_type": "code",
      "source": [
        "# Example\n",
        "\n",
        "from flask import session\n",
        "\n",
        "@app.route('/login')\n",
        "def login():\n",
        "    session['user'] = 'john'\n",
        "    return \"Logged in\"\n",
        "\n",
        "@app.route('/dashboard')\n",
        "def dashboard():\n",
        "    user = session.get('user', 'Guest')\n",
        "    return f\"Welcome, {user}\""
      ],
      "metadata": {
        "id": "XhYe9a8ipuXK"
      },
      "execution_count": null,
      "outputs": []
    },
    {
      "cell_type": "markdown",
      "source": [
        "# Practical Questions"
      ],
      "metadata": {
        "id": "qXo8tAhBp8O6"
      }
    },
    {
      "cell_type": "markdown",
      "source": [
        "1. How do you create a basic Flask application?\n",
        "2. How do you serve static files like images or CSS in Flask?\n",
        "3. How do you define different routes with different HTTP methods in Flask?\n",
        "4. How do you render HTML templates in Flask?\n",
        "5. How can you generate URLs for routes in Flask using url_for?\n",
        "6. How do you handle forms in Flask?\n",
        "7. How can you validate form data in Flask?\n",
        "8. How do you manage sessions in Flask?\n",
        "9. How do you redirect to a different route in Flask?\n",
        "10. How do you handle errors in Flask (e.g., 404)?\n",
        "11. How do you structure a Flask app using Blueprints?\n",
        "12. How do you define a custom Jinja filter in Flask?\n",
        "13. How can you redirect with query parameters in Flask?\n",
        "14. How do you return JSON responses in Flask?\n",
        "15. How do you capture URL parameters in Flask?"
      ],
      "metadata": {
        "id": "jpr1UhFpp_mb"
      }
    },
    {
      "cell_type": "code",
      "source": [
        "# Solution 01\n",
        "\n",
        "from flask import Flask\n",
        "\n",
        "app = Flask(__name__)\n",
        "\n",
        "@app.route('/')\n",
        "def home():\n",
        "    return \"Hello, Flask!\"\n",
        "\n",
        "if __name__ == '__main__':\n",
        "    app.run(debug=True)"
      ],
      "metadata": {
        "id": "4Ihzn4fpqjiR"
      },
      "execution_count": null,
      "outputs": []
    },
    {
      "cell_type": "code",
      "source": [
        "# Solution 02\n",
        "\n",
        "# Flask automatically serves files in the /static folder.\n",
        "\n",
        "# Folder Structure\n",
        "\n",
        "# /static/css/style.css\n",
        "\n",
        "# HTML Usage\n",
        "\n",
        "# <link rel=\"stylesheet\" href=\"{{ url_for('static', filename='css/style.css') }}\">"
      ],
      "metadata": {
        "id": "EoJaFCckqnNK"
      },
      "execution_count": null,
      "outputs": []
    },
    {
      "cell_type": "code",
      "source": [
        "# Solution 03\n",
        "\n",
        "@app.route('/submit', methods=['GET', 'POST'])\n",
        "def submit():\n",
        "    if request.method == 'POST':\n",
        "        return \"Form submitted\"\n",
        "    return \"Submit Form\""
      ],
      "metadata": {
        "id": "Hoha1Jrwq_9E"
      },
      "execution_count": null,
      "outputs": []
    },
    {
      "cell_type": "code",
      "source": [
        "# Solution 04\n",
        "\n",
        "# Put templates in a /templates folder.\n",
        "\n",
        "from flask import render_template\n",
        "\n",
        "@app.route('/hello')\n",
        "def hello():\n",
        "    return render_template('hello.html', name='John')"
      ],
      "metadata": {
        "id": "_jYEgdnyrJhU"
      },
      "execution_count": null,
      "outputs": []
    },
    {
      "cell_type": "code",
      "source": [
        "# templates/hello.html:\n",
        "\n",
        "<h1>Hello, {{ name }}!</h1>"
      ],
      "metadata": {
        "id": "KQOGujGbrQCb"
      },
      "execution_count": null,
      "outputs": []
    },
    {
      "cell_type": "code",
      "source": [
        "# Solution 05\n",
        "\n",
        "from flask import url_for\n",
        "\n",
        "@app.route('/dashboard')\n",
        "def dashboard():\n",
        "    return \"Dashboard\"\n",
        "\n",
        "@app.route('/link')\n",
        "def link():\n",
        "    return url_for('dashboard')  # returns '/dashboard'"
      ],
      "metadata": {
        "id": "VxEpxkPsrgtM"
      },
      "execution_count": null,
      "outputs": []
    },
    {
      "cell_type": "code",
      "source": [
        "# Solution 06\n",
        "\n",
        "from flask import request\n",
        "\n",
        "@app.route('/login', methods=['GET', 'POST'])\n",
        "def login():\n",
        "    if request.method == 'POST':\n",
        "        username = request.form['username']\n",
        "        return f\"Welcome, {username}\"\n",
        "    return '''\n",
        "        <form method=\"post\">\n",
        "            <input name=\"username\">\n",
        "            <input type=\"submit\">\n",
        "        </form>\n",
        "    '''"
      ],
      "metadata": {
        "id": "UCsebd6Irk98"
      },
      "execution_count": null,
      "outputs": []
    },
    {
      "cell_type": "code",
      "source": [
        "# Solution 07\n",
        "\n",
        "# Use Flask-WTF or manually validate:\n",
        "\n",
        "@app.route('/register', methods=['POST'])\n",
        "def register():\n",
        "    email = request.form.get('email')\n",
        "    if not email or \"@\" not in email:\n",
        "        return \"Invalid email\", 400\n",
        "    return \"Registered!\""
      ],
      "metadata": {
        "id": "pxzw6nzqrqbC"
      },
      "execution_count": null,
      "outputs": []
    },
    {
      "cell_type": "code",
      "source": [
        "# Solution 08\n",
        "\n",
        "from flask import session\n",
        "\n",
        "app.secret_key = 'your_secret_key'\n",
        "\n",
        "@app.route('/set')\n",
        "def set_session():\n",
        "    session['username'] = 'john'\n",
        "    return \"Session set\"\n",
        "\n",
        "@app.route('/get')\n",
        "def get_session():\n",
        "    return session.get('username', 'Not logged in')"
      ],
      "metadata": {
        "id": "GkWPvfh0ryxe"
      },
      "execution_count": null,
      "outputs": []
    },
    {
      "cell_type": "code",
      "source": [
        "# Solution 09\n",
        "\n",
        "from flask import redirect\n",
        "\n",
        "@app.route('/old')\n",
        "def old():\n",
        "    return redirect('/new')\n",
        "\n",
        "@app.route('/new')\n",
        "def new():\n",
        "    return \"This is the new page\""
      ],
      "metadata": {
        "id": "WwR6M0i1r2Ta"
      },
      "execution_count": null,
      "outputs": []
    },
    {
      "cell_type": "code",
      "source": [
        "# Solution 10\n",
        "\n",
        "@app.errorhandler(404)\n",
        "def not_found(e):\n",
        "    return render_template('404.html'), 404"
      ],
      "metadata": {
        "id": "gidDQ5mer62s"
      },
      "execution_count": null,
      "outputs": []
    },
    {
      "cell_type": "code",
      "source": [
        "# templates/404.html\n",
        "\n",
        "<h1>Page Not Found</h1>"
      ],
      "metadata": {
        "id": "1bAO_u3ur-P6"
      },
      "execution_count": null,
      "outputs": []
    },
    {
      "cell_type": "code",
      "source": [
        "# Solution 11\n",
        "\n",
        "# user.py\n",
        "\n",
        "from flask import Blueprint\n",
        "\n",
        "user_bp = Blueprint('user', __name__)\n",
        "\n",
        "@user_bp.route('/profile')\n",
        "def profile():\n",
        "    return \"User Profile\""
      ],
      "metadata": {
        "id": "ydWMjrU3sGiw"
      },
      "execution_count": null,
      "outputs": []
    },
    {
      "cell_type": "code",
      "source": [
        "# app.py\n",
        "\n",
        "from user import user_bp\n",
        "\n",
        "app.register_blueprint(user_bp, url_prefix='/user')\n"
      ],
      "metadata": {
        "id": "h9Uc9oABsNRL"
      },
      "execution_count": null,
      "outputs": []
    },
    {
      "cell_type": "code",
      "source": [
        "# Solution 12\n",
        "\n",
        "@app.template_filter('reverse')\n",
        "def reverse_filter(s):\n",
        "    return s[::-1]"
      ],
      "metadata": {
        "id": "2_PKKxmLsWYE"
      },
      "execution_count": null,
      "outputs": []
    },
    {
      "cell_type": "code",
      "source": [
        "# In template\n",
        "\n",
        "{{ 'hello'|reverse }}"
      ],
      "metadata": {
        "id": "1Wob9Mt7saYN"
      },
      "execution_count": null,
      "outputs": []
    },
    {
      "cell_type": "code",
      "source": [
        "# Solution 13\n",
        "\n",
        "from flask import redirect, url_for\n",
        "\n",
        "@app.route('/go')\n",
        "def go():\n",
        "    return redirect(url_for('search', q='flask'))\n",
        "\n",
        "@app.route('/search')\n",
        "def search():\n",
        "    return f\"Search query: {request.args.get('q')}\""
      ],
      "metadata": {
        "id": "COoHTPNNsnj3"
      },
      "execution_count": null,
      "outputs": []
    },
    {
      "cell_type": "code",
      "source": [
        "# Solution 14\n",
        "\n",
        "from flask import jsonify\n",
        "\n",
        "@app.route('/api/data')\n",
        "def data():\n",
        "    return jsonify({\"name\": \"Alice\", \"age\": 25})"
      ],
      "metadata": {
        "id": "FLnajzqlsrtQ"
      },
      "execution_count": null,
      "outputs": []
    },
    {
      "cell_type": "code",
      "source": [
        "# Solution 15\n",
        "\n",
        "@app.route('/user/<username>')\n",
        "def show_user(username):\n",
        "    return f\"User: {username}\"\n",
        "\n",
        "@app.route('/post/<int:post_id>')\n",
        "def show_post(post_id):\n",
        "    return f\"Post ID: {post_id}\""
      ],
      "metadata": {
        "id": "k4WpagabtAS6"
      },
      "execution_count": null,
      "outputs": []
    }
  ]
}